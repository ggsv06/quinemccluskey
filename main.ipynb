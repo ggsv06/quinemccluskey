{
 "cells": [
  {
   "cell_type": "markdown",
   "metadata": {},
   "source": [
    "#  Gerador de lista mintermos"
   ]
  },
  {
   "cell_type": "code",
   "execution_count": 1,
   "metadata": {},
   "outputs": [
    {
     "name": "stdout",
     "output_type": "stream",
     "text": [
      "Digite os números que deseja para o mintermo.\n",
      "Caso queira sair, digite \"exit\"\n"
     ]
    }
   ],
   "source": [
    "import pandas as pd\n",
    "\n",
    "lst_mintermos = [1, 5, 8, 15]\n",
    "\n",
    "print('Digite os números que deseja para o mintermo.\\nCaso queira sair, digite \"exit\"')\n",
    "escolha = 0\n",
    "# escolha = input('Sua lista está no código fonte? (s/n): ')\n",
    "if escolha == 'n':\n",
    "    while True:\n",
    "        try:\n",
    "            x = int(input('Digite um número: '))\n",
    "            lst_mintermos.append(x)\n",
    "        except:\n",
    "            break\n",
    "lst_mintermos.sort()"
   ]
  },
  {
   "cell_type": "markdown",
   "metadata": {},
   "source": [
    "# Gerador de tabela base"
   ]
  },
  {
   "cell_type": "code",
   "execution_count": 2,
   "metadata": {},
   "outputs": [],
   "source": [
    "# Saber quantos dígitos no máximo\n",
    "num_max = bin(lst_mintermos[-1])\n",
    "num_max = num_max.replace('0b', '')\n",
    "num_algs = len(num_max)\n",
    "\n",
    "# Lista com os xn e n de índices\n",
    "lst_xn = []\n",
    "\n",
    "for termos in range(num_algs -1, -1, -1):\n",
    "\n",
    "    xn = f'X{termos}'\n",
    "    lst_xn.append(xn)\n",
    "\n",
    "# Salvar Xns\n",
    "lst_temp_xn = lst_xn[:]\n",
    "\n",
    "# Cabeçalho pronto\n",
    "lst_temp_xn.insert(0,'N índices')\n",
    "\n",
    "# Transformar em dicionário e em DataFrame\n",
    "d = {}\n",
    "for termos in lst_temp_xn:\n",
    "    d.setdefault(termos, [])\n",
    "df_base = pd.DataFrame(d)\n"
   ]
  },
  {
   "cell_type": "markdown",
   "metadata": {},
   "source": [
    "# Carregar números no dataframe"
   ]
  },
  {
   "cell_type": "code",
   "execution_count": 3,
   "metadata": {},
   "outputs": [
    {
     "data": {
      "text/html": [
       "<div>\n",
       "<style scoped>\n",
       "    .dataframe tbody tr th:only-of-type {\n",
       "        vertical-align: middle;\n",
       "    }\n",
       "\n",
       "    .dataframe tbody tr th {\n",
       "        vertical-align: top;\n",
       "    }\n",
       "\n",
       "    .dataframe thead th {\n",
       "        text-align: right;\n",
       "    }\n",
       "</style>\n",
       "<table border=\"1\" class=\"dataframe\">\n",
       "  <thead>\n",
       "    <tr style=\"text-align: right;\">\n",
       "      <th></th>\n",
       "      <th>N índices</th>\n",
       "      <th>X3</th>\n",
       "      <th>X2</th>\n",
       "      <th>X1</th>\n",
       "      <th>X0</th>\n",
       "      <th>Decimal</th>\n",
       "    </tr>\n",
       "  </thead>\n",
       "  <tbody>\n",
       "    <tr>\n",
       "      <th>0</th>\n",
       "      <td>NaN</td>\n",
       "      <td>0.0</td>\n",
       "      <td>0.0</td>\n",
       "      <td>0.0</td>\n",
       "      <td>1.0</td>\n",
       "      <td>1.0</td>\n",
       "    </tr>\n",
       "    <tr>\n",
       "      <th>1</th>\n",
       "      <td>NaN</td>\n",
       "      <td>0.0</td>\n",
       "      <td>1.0</td>\n",
       "      <td>0.0</td>\n",
       "      <td>1.0</td>\n",
       "      <td>5.0</td>\n",
       "    </tr>\n",
       "    <tr>\n",
       "      <th>2</th>\n",
       "      <td>NaN</td>\n",
       "      <td>1.0</td>\n",
       "      <td>0.0</td>\n",
       "      <td>0.0</td>\n",
       "      <td>0.0</td>\n",
       "      <td>8.0</td>\n",
       "    </tr>\n",
       "    <tr>\n",
       "      <th>3</th>\n",
       "      <td>NaN</td>\n",
       "      <td>1.0</td>\n",
       "      <td>1.0</td>\n",
       "      <td>1.0</td>\n",
       "      <td>1.0</td>\n",
       "      <td>15.0</td>\n",
       "    </tr>\n",
       "  </tbody>\n",
       "</table>\n",
       "</div>"
      ],
      "text/plain": [
       "   N índices   X3   X2   X1   X0  Decimal\n",
       "0        NaN  0.0  0.0  0.0  1.0      1.0\n",
       "1        NaN  0.0  1.0  0.0  1.0      5.0\n",
       "2        NaN  1.0  0.0  0.0  0.0      8.0\n",
       "3        NaN  1.0  1.0  1.0  1.0     15.0"
      ]
     },
     "metadata": {},
     "output_type": "display_data"
    }
   ],
   "source": [
    "# Loop para transformar números decimais em binários e colocar no dataframe\n",
    "for index, termos in enumerate(lst_mintermos):\n",
    "    num_temp_bin = bin(termos).replace('0b', '')\n",
    "    num_temp_bin = '0'*(len(lst_xn) - len(num_temp_bin)) + num_temp_bin\n",
    "    \n",
    "    for digito, xn in zip(num_temp_bin, lst_xn):\n",
    "        df_base.loc[index, xn] = int(digito)\n",
    "        \n",
    "        df_base.loc[index, 'Decimal'] = int(termos)\n",
    "    df_base.loc[:,lst_xn] = df_base.loc[:,lst_xn].fillna(0)\n",
    "display(df_base)"
   ]
  },
  {
   "cell_type": "markdown",
   "metadata": {},
   "source": [
    "# Número de índices"
   ]
  },
  {
   "cell_type": "code",
   "execution_count": null,
   "metadata": {},
   "outputs": [],
   "source": []
  }
 ],
 "metadata": {
  "kernelspec": {
   "display_name": "Python 3",
   "language": "python",
   "name": "python3"
  },
  "language_info": {
   "codemirror_mode": {
    "name": "ipython",
    "version": 3
   },
   "file_extension": ".py",
   "mimetype": "text/x-python",
   "name": "python",
   "nbconvert_exporter": "python",
   "pygments_lexer": "ipython3",
   "version": "3.10.6"
  }
 },
 "nbformat": 4,
 "nbformat_minor": 2
}
