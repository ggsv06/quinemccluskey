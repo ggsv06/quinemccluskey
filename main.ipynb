{
 "cells": [
  {
   "cell_type": "markdown",
   "metadata": {},
   "source": [
    "#  Gerador de lista mintermos"
   ]
  },
  {
   "cell_type": "code",
   "execution_count": 2,
   "metadata": {},
   "outputs": [
    {
     "name": "stdout",
     "output_type": "stream",
     "text": [
      "Digite os números que deseja para o mintermo.\n",
      "Caso queira sair, digite \"exit\"\n"
     ]
    }
   ],
   "source": [
    "import pandas as pd\n",
    "\n",
    "lst_mintermos = [32]\n",
    "\n",
    "print('Digite os números que deseja para o mintermo.\\nCaso queira sair, digite \"exit\"')\n",
    "\n",
    "escolha = input('Sua lista está no código fonte? (s/n): ')\n",
    "if escolha == 'n':\n",
    "    while True:\n",
    "        try:\n",
    "            x = int(input('Digite um número: '))\n",
    "            lst_mintermos.append(x)\n",
    "        except:\n",
    "            break\n",
    "lst_mintermos.sort()\n"
   ]
  },
  {
   "cell_type": "markdown",
   "metadata": {},
   "source": [
    "# Gerador de tabela base"
   ]
  },
  {
   "cell_type": "code",
   "execution_count": 5,
   "metadata": {},
   "outputs": [
    {
     "name": "stdout",
     "output_type": "stream",
     "text": [
      "<class 'str'>\n"
     ]
    }
   ],
   "source": [
    "num_max = bin(lst_mintermos[-1])\n",
    "\n",
    "print(type(num_max))"
   ]
  }
 ],
 "metadata": {
  "kernelspec": {
   "display_name": "Python 3",
   "language": "python",
   "name": "python3"
  },
  "language_info": {
   "codemirror_mode": {
    "name": "ipython",
    "version": 3
   },
   "file_extension": ".py",
   "mimetype": "text/x-python",
   "name": "python",
   "nbconvert_exporter": "python",
   "pygments_lexer": "ipython3",
   "version": "3.12.1"
  }
 },
 "nbformat": 4,
 "nbformat_minor": 2
}
